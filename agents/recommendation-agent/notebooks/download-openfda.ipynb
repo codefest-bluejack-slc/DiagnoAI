{
 "cells": [
  {
   "cell_type": "code",
   "execution_count": 1,
   "id": "e53aa596",
   "metadata": {},
   "outputs": [],
   "source": [
    "import os\n",
    "import requests\n",
    "from pathlib import Path\n",
    "import zipfile"
   ]
  },
  {
   "cell_type": "code",
   "execution_count": 2,
   "id": "0fb8399f",
   "metadata": {},
   "outputs": [],
   "source": [
    "BASE_URL = \"https://download.open.fda.gov/drug/label/\"\n",
    "URLS = [\n",
    "    f\"{BASE_URL}drug-label-{i:04d}-of-0013.json.zip\"\n",
    "    for i in range(1, 14)\n",
    "]"
   ]
  },
  {
   "cell_type": "code",
   "execution_count": 3,
   "id": "f85a1ee3",
   "metadata": {},
   "outputs": [],
   "source": [
    "def download_openfda_labels(save_dir: str, keep_zip=False):\n",
    "    Path(save_dir).mkdir(parents=True, exist_ok=True)\n",
    "\n",
    "    for url in URLS:\n",
    "        zip_path = os.path.join(save_dir, os.path.basename(url))\n",
    "        print(f\"Downloading {url} → {zip_path}\")\n",
    "\n",
    "        response = requests.get(url, stream=True)\n",
    "        response.raise_for_status()\n",
    "        with open(zip_path, \"wb\") as f:\n",
    "            for chunk in response.iter_content(chunk_size=8192):\n",
    "                if chunk:\n",
    "                    f.write(chunk)\n",
    "        print(f\"Saved: {zip_path}\")\n",
    "\n",
    "        with zipfile.ZipFile(zip_path, \"r\") as zip_ref:\n",
    "            zip_ref.extractall(save_dir)\n",
    "            print(f\"Extracted: {zip_ref.namelist()}\")\n",
    "\n",
    "        if not keep_zip:\n",
    "            os.remove(zip_path)\n",
    "            print(f\"Removed zip: {zip_path}\")"
   ]
  },
  {
   "cell_type": "code",
   "execution_count": null,
   "id": "db1bc262",
   "metadata": {},
   "outputs": [],
   "source": [
    "if __name__ == \"__main__\":\n",
    "    target_directory = \"../data/openfda/original/\"\n",
    "    download_openfda_labels(target_directory)"
   ]
  }
 ],
 "metadata": {
  "kernelspec": {
   "display_name": "AI",
   "language": "python",
   "name": "python3"
  },
  "language_info": {
   "codemirror_mode": {
    "name": "ipython",
    "version": 3
   },
   "file_extension": ".py",
   "mimetype": "text/x-python",
   "name": "python",
   "nbconvert_exporter": "python",
   "pygments_lexer": "ipython3",
   "version": "3.10.9"
  }
 },
 "nbformat": 4,
 "nbformat_minor": 5
}
